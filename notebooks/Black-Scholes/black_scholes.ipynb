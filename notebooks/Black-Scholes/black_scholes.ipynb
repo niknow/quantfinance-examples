{
 "cells": [
  {
   "cell_type": "markdown",
   "id": "594fe24e",
   "metadata": {},
   "source": [
    "<p style=\"font-size:120px; text-align:center\"><b>Black-Scholes Basics</b></p>\n",
    "We review the Black-Scholes model with continuous dividends. The results are presented using the Python data science stack."
   ]
  },
  {
   "cell_type": "code",
   "execution_count": 1,
   "id": "898b7291",
   "metadata": {},
   "outputs": [],
   "source": [
    "%load_ext autoreload\n",
    "%autoreload 2\n",
    "%matplotlib notebook"
   ]
  },
  {
   "cell_type": "code",
   "execution_count": 6,
   "id": "4adfaddd",
   "metadata": {},
   "outputs": [],
   "source": [
    "import matplotlib.pyplot as plt\n",
    "import numpy as np\n",
    "import matplotlib.ticker as mtick\n",
    "import ipywidgets as wd\n",
    "from mpl_toolkits import mplot3d\n",
    "\n",
    "import sys\n",
    "sys.path.append(\"../../\")\n",
    "import pyqfin.models.black_scholes"
   ]
  },
  {
   "cell_type": "markdown",
   "id": "412044c1",
   "metadata": {},
   "source": [
    "# Black-Scholes Theory"
   ]
  },
  {
   "cell_type": "markdown",
   "id": "15cc7dcd",
   "metadata": {},
   "source": [
    "## Dynamics of the Underlying\n",
    "\n",
    "**Definition**: The *Black-Scholes model* is defined by a stochastic process\n",
    "\\begin{align}\n",
    "        dS_t = (r-q) S_t dt + \\sigma S_t dW_t, && S_0 = s_0\n",
    "\\end{align}\n",
    "on a probability space $(\\Omega, \\mathcal{F}, \\mathbb{Q})$, where we think of $\\mathbb{Q}$ as the risk-neutral measure with respect to a *bank account numeraire* $B(t)$ defined by\n",
    "\\begin{align*}\n",
    "    dB_t = r B_t dt, && B_0=1\n",
    "\\end{align*}\n",
    "Here,\n",
    "* $s_0$ is the initial value for the stock\n",
    "* $r \\in \\mathbb{R}$ is a fixed *risk-free rate*, \n",
    "* $\\sigma > 0$ is the *volatility*, \n",
    "* $W_t$ is a Brownian motion,\n",
    "* $S_t$ is the evolution of the stock price.\n",
    "\n",
    "\n",
    "**Lemma (explicit evolution of the underlying):** In the Black-Scholes model, the stock price $S$ and the bank account numeraire $B$ have the explicit solution \n",
    "\\begin{align}\n",
    "    S_t & = s_0 \\exp(((r-q - \\tfrac{1}{2} \\sigma^2)t + \\sigma W_t) \\\\\n",
    "    B_t & = \\exp(rt)\n",
    "\\end{align}\n",
    "\\end{Lem}\n",
    "\n",
    "**Corollary (distributions):** The stock price $S_t$ is log-normally distributed and for any $0 \\leq t \\leq T$\n",
    "\\begin{align*}\n",
    "    \\mathbb{E}[ S_T \\mid \\mathcal{F}_t] &= e^{S_t + (r-q)(T-t)}\\\\\n",
    "    \\mathbb{V}[S_T \\mid \\mathcal{F}_t] &= (e^{\\sigma^2(T-t)}-1) e^{2(S_t + (r-q)(T-t)) + \\sigma^2(T-t)}\\\\\n",
    "    \\operatorname{Cov}[S_t, S_T] &=\n",
    "\\end{align*}"
   ]
  },
  {
   "cell_type": "markdown",
   "id": "d02b4459",
   "metadata": {},
   "source": [
    "## Pricing of Derivatives\n",
    "\n",
    "**Theorem (risk-neutral pricing):** Let $V_T$ be an $\\mathcal{F}_T$-measurable payoff. Then the arbitrage-free price $V_t$ of $V_T$ at $t$ is given by\n",
    "\\begin{align*}\n",
    "    V_t = e^{-r(T-t)}\\mathbb{E}[V_T \\mid \\mathcal{F}_t].\n",
    "\\end{align*}\n",
    "\n",
    "**Definition:** For any *strike* $K$ and *maturity* $T$, the payoffs\n",
    "\\begin{align*}\n",
    "    C(T) &:= (S_T - K)^+, \\\\\n",
    "    P(T) &:= (K-S_T)^+, \\\\\n",
    "    F(T) &:= S_T - K\n",
    "\\end{align*}\n",
    "are called *European call option*, *European put option* and *forward*.\n",
    "\n",
    "**Theorem**: The price of a European call option $C$, put option $P$ and Forward $F$ with maturity $T$ and strike $K$ is given by\n",
    "\\begin{align*}\n",
    "    C_t &= e^{-r (T-t)}( f_t \\Phi(d_1) - K \\Phi(d_2)),\\\\\n",
    "    P_t &= e^{-r(T-t)}(K - \\Phi(d_2) - f_t \\Phi(-d_1)), \\\\\n",
    "    F_t &= e^{-q (T-t)}S_0 - e^{-r(T-t)} K, \\\\\n",
    "    d_1 &:= \\frac{1}{\\sigma \\sqrt{T-t}} \\Big( (r-q+\\tfrac{1}{2}\\sigma^2)(T-t) + \\ln\\Big(\\frac{S_0}{K}\\Big) \\Big)\\\\\n",
    "    d_2 &:= d_1 - \\sigma \\sqrt{T-t},\\\\\n",
    "    f_t &:= e^{(r-q)(T-t)}S_t\n",
    "\\end{align*}\n",
    "and the put/call parity \n",
    "\\begin{align*}\n",
    "    C_t - P_t = e^{-q (T-t)}S_0 - e^{-r(T-t)} K\n",
    "\\end{align*}\n",
    "holds. Here $\\Phi$ denotes the CDF of the standard normal distribution.\n",
    "\n"
   ]
  },
  {
   "cell_type": "markdown",
   "id": "b348a736",
   "metadata": {},
   "source": [
    "## Greeks\n",
    "\n",
    "**Theorem(greeks):** The derivatives of $P_t$ and $C_t$ are given by\n",
    "\n",
    "| Name | Definition | Formula |\n",
    "| ----------- | ----------- |\n",
    "| Delta | $\\frac{\\partial C}{\\partial S_0} = e^{-q T} \\Phi(d_1)$ |\n",
    "| Paragraph   | Text        |\n",
    "\n",
    "\t\\begin{enumerate}\n",
    "\t\t\\item\n",
    "\t\t\tDelta: \n",
    "\t\t\t\\begin{align}\n",
    "\t\t\t\t\\label{EqBlackScholesDeltaCall}\n",
    "\t\t\t\t\\frac{\\partial C}{\\partial S_0} &= e^{-q T} \\Phi(d_1), \\\\\n",
    "\t\t\t\t\\label{EqBlackScholesDeltaPut}\n",
    "\t\t\t\t\\frac{\\partial P}{\\partial S_0} &= e^{-q T} (\\Phi(d_1) - 1)\n",
    "\t\t\t\\end{align}\n",
    "\t\t\\item\n",
    "\t\t\tGamma: \n",
    "\t\t\t\\begin{align}\n",
    "\t\t\t\\label{EqBlackScholesDelta}\n",
    "\t\t\t\t\\frac{\\partial^2 C}{\\partial S_0^2} = e^{-q T} \\frac{\\varphi(d_1)}{\\sigma \\sqrt{T}} =\n",
    "\t\t\t\t\\frac{\\partial^2 P}{\\partial S_0^2}\n",
    "\t\t\t\\end{align}\n",
    "\t\t\\item\n",
    "\t\t\tVega: \n",
    "\t\t\t\\begin{align}\n",
    "\t\t\t\t\\label{EqBlackScholesVega}\n",
    "\t\t\t\t\\frac{\\partial C}{\\partial \\sigma} = e^{-q T} S_0 \\varphi(d_1) \\sqrt{T} =\n",
    "\t\t\t\t\\frac{\\partial P}{\\partial \\sigma}\n",
    "\t\t\t\\end{align}\n",
    "\t\t\\item\n",
    "\t\t\tTheta:\n",
    "\t\t\t\\begin{align}\n",
    "\t\t\t\t\\label{EqBlackScholesThetaCall}\n",
    "\t\t\t\t\\frac{\\partial C}{\\partial t} \n",
    "\t\t\t\t&= q e^{-q(T-t)}S_0 \\Phi(d_1) - r e^{-r(T-t)} K \\Phi(d_2) - e^{-q(T-t)}\\frac{\\sigma S_0 \\varphi(d_1)}{2 \\sqrt{T-t}}, \\\\\n",
    "\t\t\t\t\\label{EqBlackScholesThetaPut}\n",
    "\t\t\t\t\\frac{\\partial P}{\\partial t}\n",
    "\t\t\t\t&= \\frac{\\partial C}{\\partial t} -qe^{-q(T-t)}S_0 + r e^{-r(T-t)} K\n",
    "\t\t\t\\end{align}\n",
    "\t\t\\item\n",
    "\t\t\tRho:\n",
    "\t\t\t\\begin{align}\n",
    "\t\t\t\t\\label{EqBlackScholesRhoCall}\n",
    "\t\t\t\t\\frac{\\partial C}{\\partial r}  &= T e^{-r T} K \\Phi(d_2) \\\\\n",
    "\t\t\t\t\\label{EqBlackScholesRhoPut}\n",
    "\t\t\t\t\\frac{\\partial P}{\\partial r}  &=-T e^{-r T} K \\Phi(-d_2)\n",
    "\t\t\t\\end{align}\n",
    "\t\\end{enumerate}"
   ]
  },
  {
   "cell_type": "code",
   "execution_count": null,
   "id": "b02cbf75",
   "metadata": {},
   "outputs": [],
   "source": []
  }
 ],
 "metadata": {
  "kernelspec": {
   "display_name": "Python (ml4)",
   "language": "python",
   "name": "ml4"
  },
  "language_info": {
   "codemirror_mode": {
    "name": "ipython",
    "version": 3
   },
   "file_extension": ".py",
   "mimetype": "text/x-python",
   "name": "python",
   "nbconvert_exporter": "python",
   "pygments_lexer": "ipython3",
   "version": "3.8.12"
  },
  "toc": {
   "base_numbering": 1,
   "nav_menu": {},
   "number_sections": true,
   "sideBar": true,
   "skip_h1_title": false,
   "title_cell": "Table of Contents",
   "title_sidebar": "Contents",
   "toc_cell": false,
   "toc_position": {},
   "toc_section_display": true,
   "toc_window_display": true
  }
 },
 "nbformat": 4,
 "nbformat_minor": 5
}
